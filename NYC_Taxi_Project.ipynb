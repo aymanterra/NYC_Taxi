{
 "cells": [
  {
   "cell_type": "markdown",
   "metadata": {},
   "source": [
    "# Analyzing New York City Taxi Dataset (Batch)"
   ]
  },
  {
   "cell_type": "markdown",
   "metadata": {},
   "source": [
    "## Dataset:\n",
    "You can download the NYC taxi dataset from the link http://www.andresmh.com/nyctaxitrips/ then take\n",
    "a sample from it. Each row of the file after the header represents a single taxi ride in CSV format. For\n",
    "each ride, we have some attributes of the cab (a hashed version of the medallion number) as well as the\n",
    "driver (a hashed version of the hack license, which is what licenses to drive taxis are called), some\n",
    "temporal information about when the trip started and ended, and the longitude/latitude coordinates for\n",
    "where the passenger(s) were picked up and dropped off."
   ]
  },
  {
   "cell_type": "markdown",
   "metadata": {},
   "source": [
    "### We are mainly interested in each Trip's:\n",
    "- Some Unique ID for the car (license)\n",
    "- Pick-up location\n",
    "- Pick-up time\n",
    "- Drop-off location\n",
    "- Drop-off time"
   ]
  },
  {
   "cell_type": "markdown",
   "metadata": {},
   "source": [
    "## Problem:\n",
    "\n",
    "We need to compute one important statistic utilization. Utilization is the fraction of time that a cab is on\n",
    "the road and is occupied by one or more passengers. One factor that impacts utilization is the\n",
    "passenger's destination: a cab that drops off passengers near Union Square at midday is much more\n",
    "likely to find its next fare in just a minute or two, whereas a cab that drops someone off at 2 AM on Staten Island may\n",
    "have to drive all the way back to Manhattan before it find its next fare.\n",
    "We need to compute:\n",
    "\n",
    "1. The average time it takes for a taxi to find its next fare(trip) per destination borough,\n",
    "2. The number of trips that started and ended within the same borough,\n",
    "3. The number of trips that start in one borough and ended in another one"
   ]
  },
  {
   "cell_type": "markdown",
   "metadata": {},
   "source": [
    "#### Import required packages"
   ]
  },
  {
   "cell_type": "code",
   "execution_count": 1,
   "metadata": {},
   "outputs": [],
   "source": [
    "# import os\n",
    "# import findspark\n",
    "\n",
    "# os.environ[\"SPARK_HOME\"] = \"/opt/bitnami/hadoop/spark\"\n",
    "# findspark.init()"
   ]
  },
  {
   "cell_type": "code",
   "execution_count": 2,
   "metadata": {},
   "outputs": [],
   "source": [
    "from pyspark.sql import SparkSession\n",
    "from pyspark.sql.functions import udf, broadcast, unix_timestamp\n",
    "from pyspark.sql.types import *\n",
    "from shapely.geometry import shape, Point\n",
    "from pyspark.sql.window import Window\n",
    "import pyspark.sql.functions as func\n",
    "import json\n",
    "import geopandas as gpd"
   ]
  },
  {
   "cell_type": "markdown",
   "metadata": {},
   "source": [
    "#### Initiate spark session"
   ]
  },
  {
   "cell_type": "code",
   "execution_count": 3,
   "metadata": {},
   "outputs": [],
   "source": [
    "spark = SparkSession \\\n",
    "    .builder \\\n",
    "    .appName(\"Taxi rides\") \\\n",
    "    .getOrCreate()"
   ]
  },
  {
   "cell_type": "code",
   "execution_count": null,
   "metadata": {},
   "outputs": [],
   "source": []
  },
  {
   "cell_type": "markdown",
   "metadata": {},
   "source": [
    "### Preparing Taxi rides data"
   ]
  },
  {
   "cell_type": "markdown",
   "metadata": {},
   "source": [
    "#### Read NYC Taxi rides data"
   ]
  },
  {
   "cell_type": "code",
   "execution_count": 4,
   "metadata": {},
   "outputs": [],
   "source": [
    "rides = spark.read\\\n",
    "               .format(\"csv\")\\\n",
    "               .option(\"header\", \"true\")\\\n",
    "               .load(\"./sample_1000_records.csv\")"
   ]
  },
  {
   "cell_type": "code",
   "execution_count": 5,
   "metadata": {},
   "outputs": [
    {
     "name": "stdout",
     "output_type": "stream",
     "text": [
      "root\n",
      " |-- medallion: string (nullable = true)\n",
      " |-- hack_license: string (nullable = true)\n",
      " |-- vendor_id: string (nullable = true)\n",
      " |-- rate_code: string (nullable = true)\n",
      " |-- store_and_fwd_flag: string (nullable = true)\n",
      " |-- pickup_datetime: string (nullable = true)\n",
      " |-- dropoff_datetime: string (nullable = true)\n",
      " |-- passenger_count: string (nullable = true)\n",
      " |-- trip_time_in_secs: string (nullable = true)\n",
      " |-- trip_distance: string (nullable = true)\n",
      " |-- pickup_longitude: string (nullable = true)\n",
      " |-- pickup_latitude: string (nullable = true)\n",
      " |-- dropoff_longitude: string (nullable = true)\n",
      " |-- dropoff_latitude: string (nullable = true)\n",
      "\n"
     ]
    }
   ],
   "source": [
    "rides.printSchema()"
   ]
  },
  {
   "cell_type": "markdown",
   "metadata": {},
   "source": [
    "#### Convert datetime format to timestamp and calculate duration\n",
    "Note: Duration already exists as \"trip_time_in_secs\""
   ]
  },
  {
   "cell_type": "code",
   "execution_count": 6,
   "metadata": {},
   "outputs": [],
   "source": [
    "rides = rides \\\n",
    "            .withColumn(\n",
    "                'pickup_timestamp',\n",
    "                unix_timestamp(rides.pickup_datetime)\n",
    "            ).withColumn(\n",
    "                'dropoff_timestamp',\n",
    "                unix_timestamp(rides.dropoff_datetime)\n",
    "            ).withColumn(\n",
    "                'duration',\n",
    "                unix_timestamp(rides.dropoff_datetime) - unix_timestamp(rides.pickup_datetime)\n",
    "            )"
   ]
  },
  {
   "cell_type": "markdown",
   "metadata": {},
   "source": [
    "#### Drop unwanted columns"
   ]
  },
  {
   "cell_type": "code",
   "execution_count": 7,
   "metadata": {},
   "outputs": [],
   "source": [
    "rides = rides.drop(\n",
    "    'medallion',\n",
    "    'vendor_id',\n",
    "    'rate_code',\n",
    "    'store_and_fwd_flag',\n",
    "    'passenger_count',\n",
    "    'trip_distance',\n",
    "    'pickup_datetime',\n",
    "    'dropoff_datetime',\n",
    "    'trip_time_in_secs'\n",
    ")"
   ]
  },
  {
   "cell_type": "markdown",
   "metadata": {},
   "source": [
    "#### Filter for duration more than 0 and less than 4 hours (4\\*60\\*60 = 14400)"
   ]
  },
  {
   "cell_type": "code",
   "execution_count": 8,
   "metadata": {},
   "outputs": [],
   "source": [
    "rides = rides.filter('duration > \"0\" and duration < \"14400\"')"
   ]
  },
  {
   "cell_type": "markdown",
   "metadata": {},
   "source": [
    "#### Sort by \"hack_license\" to make sure that all taxi driver data be available at the same cluster"
   ]
  },
  {
   "cell_type": "code",
   "execution_count": 9,
   "metadata": {},
   "outputs": [],
   "source": [
    "rides = rides.sort(rides.hack_license, rides.pickup_timestamp)"
   ]
  },
  {
   "cell_type": "code",
   "execution_count": 10,
   "metadata": {},
   "outputs": [
    {
     "name": "stdout",
     "output_type": "stream",
     "text": [
      "+--------------------+----------------+---------------+-----------------+----------------+----------------+-----------------+--------+\n",
      "|        hack_license|pickup_longitude|pickup_latitude|dropoff_longitude|dropoff_latitude|pickup_timestamp|dropoff_timestamp|duration|\n",
      "+--------------------+----------------+---------------+-----------------+----------------+----------------+-----------------+--------+\n",
      "|00567B1CBFD51DDFA...|        -73.9729|      40.795914|       -73.996353|       40.753288|      1358074800|       1358075760|     960|\n",
      "|00711D0CC3FB5BC90...|      -73.989761|      40.723213|       -74.022575|       40.622131|      1358051280|       1358052300|    1020|\n",
      "|00BF52E4A8E6DBB01...|      -73.954803|      40.769821|       -73.946419|       40.781841|      1358072100|       1358072280|     180|\n",
      "|01202D837DD4454C7...|      -73.958099|      40.815384|       -73.958054|        40.81543|      1358052300|       1358052420|     120|\n",
      "|015760806341352ED...|      -74.003059|      40.723473|       -73.976883|       40.751884|      1357510702|       1357511211|     509|\n",
      "+--------------------+----------------+---------------+-----------------+----------------+----------------+-----------------+--------+\n",
      "only showing top 5 rows\n",
      "\n"
     ]
    },
    {
     "data": {
      "text/plain": [
       "996"
      ]
     },
     "execution_count": 10,
     "metadata": {},
     "output_type": "execute_result"
    }
   ],
   "source": [
    "rides.show(5)\n",
    "\n",
    "rides.count()"
   ]
  },
  {
   "cell_type": "code",
   "execution_count": null,
   "metadata": {},
   "outputs": [],
   "source": []
  },
  {
   "cell_type": "markdown",
   "metadata": {},
   "source": [
    "### Preparing borough geospatial data"
   ]
  },
  {
   "cell_type": "markdown",
   "metadata": {},
   "source": [
    "#### Read borough geospatial data as Json"
   ]
  },
  {
   "cell_type": "code",
   "execution_count": 11,
   "metadata": {},
   "outputs": [],
   "source": [
    "boroughsPolygon = json.load(open('./nyc-boroughs.geojson'))['features']"
   ]
  },
  {
   "cell_type": "markdown",
   "metadata": {},
   "source": [
    "#### Convert borough Json to Dataframe"
   ]
  },
  {
   "cell_type": "code",
   "execution_count": 12,
   "metadata": {},
   "outputs": [],
   "source": [
    "schema = StructType([\n",
    "    StructField(\"geometry\", StructType([\n",
    "        StructField(\"coordinates\", ArrayType(ArrayType(ArrayType(FloatType())))),\n",
    "        StructField(\"type\", StringType()),\n",
    "    ])),\n",
    "    StructField(\"properties\", StructType([\n",
    "        StructField(\"@id\", StringType()),\n",
    "        StructField(\"borough\", StringType()),\n",
    "        StructField(\"boroughCode\", IntegerType()),\n",
    "    ])),\n",
    "    StructField(\"id\", IntegerType()),\n",
    "    StructField(\"type\", StringType()),\n",
    "])\n",
    "sparkBoroughsPolygon = spark.createDataFrame(boroughsPolygon, schema)"
   ]
  },
  {
   "cell_type": "markdown",
   "metadata": {},
   "source": [
    "#### Create UDF (User Defined Function) to get Polygon area"
   ]
  },
  {
   "cell_type": "code",
   "execution_count": 13,
   "metadata": {},
   "outputs": [],
   "source": [
    "add_polygon_area_udf = udf(\n",
    "    lambda geometry: shape({\"coordinates\": geometry['coordinates'], \"type\": geometry['type']}).area\n",
    ")"
   ]
  },
  {
   "cell_type": "markdown",
   "metadata": {},
   "source": [
    "#### Add area as column and another columns to simplify the usage of this DF (DataFrame)"
   ]
  },
  {
   "cell_type": "code",
   "execution_count": 14,
   "metadata": {},
   "outputs": [],
   "source": [
    "sparkBoroughsPolygon = sparkBoroughsPolygon \\\n",
    "                            .withColumn(\n",
    "                                \"area\",\n",
    "                                add_polygon_area_udf(sparkBoroughsPolygon.geometry).cast(FloatType())\n",
    "                            ).withColumn(\n",
    "                                \"borough\",\n",
    "                                sparkBoroughsPolygon.properties['borough']\n",
    "                            ).withColumn(\n",
    "                                \"boroughCode\",\n",
    "                                sparkBoroughsPolygon.properties['boroughCode']\n",
    "                            )"
   ]
  },
  {
   "cell_type": "markdown",
   "metadata": {},
   "source": [
    "#### Drop unwanted columns"
   ]
  },
  {
   "cell_type": "code",
   "execution_count": 15,
   "metadata": {},
   "outputs": [],
   "source": [
    "sparkBoroughsPolygon = sparkBoroughsPolygon.drop(\n",
    "    'properties',\n",
    "    'type',\n",
    "    'id'\n",
    ")"
   ]
  },
  {
   "cell_type": "markdown",
   "metadata": {},
   "source": [
    "#### Sort by \"area\" to simplify the search in the boroughs by making the biggest on the top"
   ]
  },
  {
   "cell_type": "code",
   "execution_count": 16,
   "metadata": {},
   "outputs": [],
   "source": [
    "sparkBoroughsPolygon = sparkBoroughsPolygon.sort(\n",
    "    sparkBoroughsPolygon.area.desc(),\n",
    "    sparkBoroughsPolygon.boroughCode.desc()\n",
    ")"
   ]
  },
  {
   "cell_type": "code",
   "execution_count": 17,
   "metadata": {},
   "outputs": [
    {
     "name": "stdout",
     "output_type": "stream",
     "text": [
      "+--------------------+------------+-------------+-----------+\n",
      "|            geometry|        area|      borough|boroughCode|\n",
      "+--------------------+------------+-------------+-----------+\n",
      "|[[[[-73.89145, 40...| 0.027193693|       Queens|          4|\n",
      "|[[[[-73.9544, 40....| 0.018705718|     Brooklyn|          3|\n",
      "|[[[[-74.082214, 4...| 0.016035538|Staten Island|          5|\n",
      "|[[[[-73.87295, 40...| 0.011405894|        Bronx|          2|\n",
      "|[[[[-73.92641, 40...|0.0058590746|    Manhattan|          1|\n",
      "+--------------------+------------+-------------+-----------+\n",
      "only showing top 5 rows\n",
      "\n"
     ]
    }
   ],
   "source": [
    "sparkBoroughsPolygon.show(5)"
   ]
  },
  {
   "cell_type": "markdown",
   "metadata": {},
   "source": [
    "#### Plot the boroughs using GeoPandas"
   ]
  },
  {
   "cell_type": "code",
   "execution_count": 36,
   "metadata": {},
   "outputs": [
    {
     "data": {
      "text/plain": [
       "<matplotlib.axes._subplots.AxesSubplot at 0x7f658498f668>"
      ]
     },
     "execution_count": 36,
     "metadata": {},
     "output_type": "execute_result"
    },
    {
     "data": {
      "image/png": "[encoded data removed]",
      "text/plain": [
       "<Figure size 1080x1080 with 1 Axes>"
      ]
     },
     "metadata": {
      "needs_background": "light"
     },
     "output_type": "display_data"
    }
   ],
   "source": [
    "boroughs = gpd.read_file('./nyc-boroughs.geojson')\n",
    "boroughs.plot(column='borough', legend=True, figsize=(15, 15))"
   ]
  },
  {
   "cell_type": "code",
   "execution_count": null,
   "metadata": {},
   "outputs": [],
   "source": []
  },
  {
   "cell_type": "markdown",
   "metadata": {},
   "source": [
    "### Enrich rides Data by boroughs name using the geospatial data for each ride"
   ]
  },
  {
   "cell_type": "markdown",
   "metadata": {},
   "source": [
    "#### Create UDF (User Defined Function) to check if Point (long, lat) in Polygon (borough)"
   ]
  },
  {
   "cell_type": "code",
   "execution_count": 19,
   "metadata": {},
   "outputs": [],
   "source": [
    "point_within_polygon_udf = udf(\n",
    "    lambda long, lat, geometry: Point(float(long), float(lat)) \\\n",
    "                                    .within(shape({\n",
    "                                        \"coordinates\": geometry['coordinates'],\n",
    "                                        \"type\": geometry['type']\n",
    "                                    }))\n",
    ")"
   ]
  },
  {
   "cell_type": "markdown",
   "metadata": {},
   "source": [
    "#### Broadcast boroughs table in order to be available for all clusters and tasks."
   ]
  },
  {
   "cell_type": "code",
   "execution_count": 20,
   "metadata": {},
   "outputs": [],
   "source": [
    "broadcastedSparkBoroughsPolygon = broadcast(sparkBoroughsPolygon)"
   ]
  },
  {
   "cell_type": "markdown",
   "metadata": {},
   "source": [
    "#### Enable \"crossJoin\""
   ]
  },
  {
   "cell_type": "code",
   "execution_count": 21,
   "metadata": {},
   "outputs": [],
   "source": [
    "spark.conf.set(\"spark.sql.crossJoin.enabled\", True)"
   ]
  },
  {
   "cell_type": "markdown",
   "metadata": {},
   "source": [
    "#### Joining to get the pickup borough name"
   ]
  },
  {
   "cell_type": "code",
   "execution_count": 22,
   "metadata": {},
   "outputs": [],
   "source": [
    "rides = rides.join(\n",
    "        broadcastedSparkBoroughsPolygon,\n",
    "        on=point_within_polygon_udf(\n",
    "            rides.pickup_longitude,\n",
    "            rides.pickup_latitude,\n",
    "            broadcastedSparkBoroughsPolygon.geometry\n",
    "        ).cast(BooleanType())) \\\n",
    "    .select(rides.columns + [broadcastedSparkBoroughsPolygon.borough.alias('pickup_borough')])"
   ]
  },
  {
   "cell_type": "markdown",
   "metadata": {},
   "source": [
    "#### Joining to get the dropoff borough name"
   ]
  },
  {
   "cell_type": "code",
   "execution_count": 23,
   "metadata": {},
   "outputs": [],
   "source": [
    "rides = rides.join(\n",
    "        broadcastedSparkBoroughsPolygon,\n",
    "        on=point_within_polygon_udf(\n",
    "            rides.dropoff_longitude,\n",
    "            rides.dropoff_latitude,\n",
    "            broadcastedSparkBoroughsPolygon.geometry\n",
    "        ).cast(BooleanType())) \\\n",
    "    .select(rides.columns + [broadcastedSparkBoroughsPolygon.borough.alias('dropoff_borough')])"
   ]
  },
  {
   "cell_type": "markdown",
   "metadata": {},
   "source": [
    "#### Drop unwanted columns"
   ]
  },
  {
   "cell_type": "code",
   "execution_count": 24,
   "metadata": {},
   "outputs": [],
   "source": [
    "rides = rides.drop(\n",
    "    'pickup_longitude',\n",
    "    'pickup_latitude',\n",
    "    'dropoff_longitude',\n",
    "    'dropoff_latitude'\n",
    ")"
   ]
  },
  {
   "cell_type": "code",
   "execution_count": 25,
   "metadata": {},
   "outputs": [
    {
     "name": "stdout",
     "output_type": "stream",
     "text": [
      "+--------------------+----------------+-----------------+--------+--------------+---------------+\n",
      "|        hack_license|pickup_timestamp|dropoff_timestamp|duration|pickup_borough|dropoff_borough|\n",
      "+--------------------+----------------+-----------------+--------+--------------+---------------+\n",
      "|00567B1CBFD51DDFA...|      1358074800|       1358075760|     960|     Manhattan|      Manhattan|\n",
      "|00711D0CC3FB5BC90...|      1358051280|       1358052300|    1020|     Manhattan|       Brooklyn|\n",
      "|00BF52E4A8E6DBB01...|      1358072100|       1358072280|     180|     Manhattan|      Manhattan|\n",
      "|01202D837DD4454C7...|      1358052300|       1358052420|     120|     Manhattan|      Manhattan|\n",
      "|015760806341352ED...|      1357510702|       1357511211|     509|     Manhattan|      Manhattan|\n",
      "+--------------------+----------------+-----------------+--------+--------------+---------------+\n",
      "only showing top 5 rows\n",
      "\n"
     ]
    }
   ],
   "source": [
    "rides.show(5)"
   ]
  },
  {
   "cell_type": "code",
   "execution_count": null,
   "metadata": {},
   "outputs": [],
   "source": []
  },
  {
   "cell_type": "markdown",
   "metadata": {},
   "source": [
    "### Get the Utilization by calculating the idle time between two rides"
   ]
  },
  {
   "cell_type": "markdown",
   "metadata": {},
   "source": [
    "#### Create window that contains 2 records per Taxi Driver (prev record, current record)"
   ]
  },
  {
   "cell_type": "code",
   "execution_count": 26,
   "metadata": {},
   "outputs": [],
   "source": [
    "windowSpec = Window \\\n",
    "                .partitionBy(rides.hack_license) \\\n",
    "                .rowsBetween(-1, 0)"
   ]
  },
  {
   "cell_type": "markdown",
   "metadata": {},
   "source": [
    "#### Calculate the idle time then persist the data in order to use it agan in the tasks without compute it again"
   ]
  },
  {
   "cell_type": "code",
   "execution_count": 27,
   "metadata": {},
   "outputs": [],
   "source": [
    "rides = rides.withColumn(\n",
    "    'idle_time',\n",
    "     rides.pickup_timestamp - func.min(rides.pickup_timestamp).over(windowSpec)\n",
    ").persist()"
   ]
  },
  {
   "cell_type": "code",
   "execution_count": 28,
   "metadata": {},
   "outputs": [
    {
     "name": "stdout",
     "output_type": "stream",
     "text": [
      "+--------------------+----------------+-----------------+--------+--------------+---------------+---------+\n",
      "|        hack_license|pickup_timestamp|dropoff_timestamp|duration|pickup_borough|dropoff_borough|idle_time|\n",
      "+--------------------+----------------+-----------------+--------+--------------+---------------+---------+\n",
      "|980A15AE7BF88E611...|      1358052240|       1358052960|     720|     Manhattan|      Manhattan|        0|\n",
      "|A169B687A86BDE3FE...|      1358072820|       1358073060|     240|     Manhattan|      Manhattan|        0|\n",
      "|C4BCB67BB39AD8C17...|      1358074740|       1358075400|     660|     Manhattan|      Manhattan|        0|\n",
      "|F41C758E0A9022F59...|      1358074980|       1358075580|     600|     Manhattan|      Manhattan|        0|\n",
      "|FA36E516BD1822D19...|      1358072820|       1358073180|     360|     Manhattan|      Manhattan|        0|\n",
      "|0B6E99C5380BF98FA...|      1358072880|       1358073120|     240|     Manhattan|      Manhattan|        0|\n",
      "|4A6C8D08FAB98E9C9...|      1357632283|       1357632825|     542|     Manhattan|      Manhattan|        0|\n",
      "|4A6C8D08FAB98E9C9...|      1357644803|       1357645693|     890|     Manhattan|      Manhattan|    12520|\n",
      "|84E58B2BD574AA02B...|      1358075100|       1358075640|     540|     Manhattan|      Manhattan|        0|\n",
      "|8FAD076F7BA2D0F5F...|      1358050440|       1358052300|    1860|     Manhattan|       Brooklyn|        0|\n",
      "+--------------------+----------------+-----------------+--------+--------------+---------------+---------+\n",
      "only showing top 10 rows\n",
      "\n"
     ]
    }
   ],
   "source": [
    "rides.show(10)"
   ]
  },
  {
   "cell_type": "code",
   "execution_count": null,
   "metadata": {},
   "outputs": [],
   "source": []
  },
  {
   "cell_type": "markdown",
   "metadata": {},
   "source": [
    "## Task 1:\n",
    "### Avarage idle time per destination borough"
   ]
  },
  {
   "cell_type": "code",
   "execution_count": 29,
   "metadata": {},
   "outputs": [],
   "source": [
    "avg_idle_time_per_dest_borough = rides.where('idle_time < \"14400\"') \\\n",
    "                                    .groupBy('dropoff_borough')\\\n",
    "                                    .agg({'idle_time':\"avg\"}) \\\n",
    "                                    .withColumnRenamed('avg(idle_time)', 'avg_idle_time')"
   ]
  },
  {
   "cell_type": "code",
   "execution_count": 30,
   "metadata": {},
   "outputs": [
    {
     "name": "stdout",
     "output_type": "stream",
     "text": [
      "+---------------+------------------+\n",
      "|dropoff_borough|     avg_idle_time|\n",
      "+---------------+------------------+\n",
      "|         Queens| 84.63636363636364|\n",
      "|       Brooklyn|201.11494252873564|\n",
      "|      Manhattan| 312.4173126614987|\n",
      "|          Bronx|               0.0|\n",
      "+---------------+------------------+\n",
      "\n"
     ]
    }
   ],
   "source": [
    "avg_idle_time_per_dest_borough.show()"
   ]
  },
  {
   "cell_type": "code",
   "execution_count": null,
   "metadata": {},
   "outputs": [],
   "source": []
  },
  {
   "cell_type": "markdown",
   "metadata": {},
   "source": [
    "## Task 2:\n",
    "### Number of trips that started and ended within the same borough"
   ]
  },
  {
   "cell_type": "code",
   "execution_count": 31,
   "metadata": {},
   "outputs": [],
   "source": [
    "no_rides_within_same_borough = rides.where('pickup_borough == dropoff_borough') \\\n",
    "                                    .count()"
   ]
  },
  {
   "cell_type": "code",
   "execution_count": 32,
   "metadata": {},
   "outputs": [
    {
     "data": {
      "text/plain": [
       "790"
      ]
     },
     "execution_count": 32,
     "metadata": {},
     "output_type": "execute_result"
    }
   ],
   "source": [
    "no_rides_within_same_borough"
   ]
  },
  {
   "cell_type": "code",
   "execution_count": null,
   "metadata": {},
   "outputs": [],
   "source": []
  },
  {
   "cell_type": "markdown",
   "metadata": {},
   "source": [
    "## Task 3:\n",
    "### Number of trips that started and ended in another borough"
   ]
  },
  {
   "cell_type": "code",
   "execution_count": 33,
   "metadata": {},
   "outputs": [],
   "source": [
    "no_rides_ended_in_another_borough = rides.where('(pickup_borough != dropoff_borough) and dropoff_borough is NOT Null') \\\n",
    "                                        .count()"
   ]
  },
  {
   "cell_type": "code",
   "execution_count": 34,
   "metadata": {},
   "outputs": [
    {
     "data": {
      "text/plain": [
       "183"
      ]
     },
     "execution_count": 34,
     "metadata": {},
     "output_type": "execute_result"
    }
   ],
   "source": [
    "no_rides_ended_in_another_borough"
   ]
  },
  {
   "cell_type": "code",
   "execution_count": null,
   "metadata": {},
   "outputs": [],
   "source": []
  },
  {
   "cell_type": "code",
   "execution_count": null,
   "metadata": {},
   "outputs": [],
   "source": []
  },
  {
   "cell_type": "markdown",
   "metadata": {},
   "source": [
    "## Unpersist the data and close the Spark session"
   ]
  },
  {
   "cell_type": "code",
   "execution_count": 35,
   "metadata": {},
   "outputs": [],
   "source": [
    "rides.unpersist()\n",
    "sparkBoroughsPolygon.unpersist()\n",
    "broadcastedSparkBoroughsPolygon.unpersist()\n",
    "avg_idle_time_per_dest_borough.unpersist()\n",
    "\n",
    "spark.stop()"
   ]
  }
 ],
 "metadata": {
  "kernelspec": {
   "display_name": "Python 3",
   "language": "python",
   "name": "python3"
  },
  "language_info": {
   "codemirror_mode": {
    "name": "ipython",
    "version": 3
   },
   "file_extension": ".py",
   "mimetype": "text/x-python",
   "name": "python",
   "nbconvert_exporter": "python",
   "pygments_lexer": "ipython3",
   "version": "3.8.8"
  }
 },
 "nbformat": 4,
 "nbformat_minor": 4
}
